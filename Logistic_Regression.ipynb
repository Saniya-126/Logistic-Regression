{
  "nbformat": 4,
  "nbformat_minor": 0,
  "metadata": {
    "colab": {
      "provenance": []
    },
    "kernelspec": {
      "name": "python3",
      "display_name": "Python 3"
    },
    "language_info": {
      "name": "python"
    }
  },
  "cells": [
    {
      "cell_type": "markdown",
      "source": [
        "1.  What is Logistic Regression, and how does it differ from Linear Regression?\n",
        "* Logistic Regression is a statistical method used for binary classification that predicts the probability of a categorical dependent variable based on one or more independent variables, using the logistic function to model the output. In contrast, Linear Regression predicts a continuous dependent variable by fitting a linear equation to the observed data, making it suitable for regression tasks rather than classification.\n",
        "\n",
        "2. Why do we use the Sigmoid function in Logistic Regression?\n",
        "* We use the Sigmoid function in Logistic Regression because it maps any real-valued number into the range of 0 to 1, allowing us to interpret the output as a probability for binary classification, while also providing a smooth gradient that facilitates optimization during model training.\n",
        "\n",
        "3. What is Regularization in Logistic Regression? Why is it needed?\n",
        "* Regularization in Logistic Regression is a technique that adds a penalty to the cost function to prevent overfitting and improve model generalization by discouraging overly complex models.\n",
        "\n",
        "4. Explain the difference between Lasso, Ridge, and Elastic Net regression.\n",
        "* Lasso regression (L1 regularization) adds a penalty equal to the absolute value of the coefficients, promoting sparsity and feature selection by driving some coefficients to zero. Ridge regression (L2 regularization) adds a penalty equal to the square of the coefficients, which shrinks all coefficients but does not eliminate any, while Elastic Net combines both L1 and L2 penalties, balancing feature selection and coefficient shrinkage.\n",
        "\n",
        "5. When should we use Elastic Net instead of Lasso or Ridge?\n",
        "* Use Elastic Net when dealing with datasets that have many correlated features, as it effectively selects groups of correlated variables while also providing regularization. It is particularly beneficial in high-dimensional settings where both variable selection and coefficient shrinkage are desired.\n",
        "\n",
        "6. What is the impact of the regularization parameter (λ) in Logistic Regression?\n",
        "* The regularization parameter (λ) in Logistic Regression controls the strength of the penalty applied to the coefficients:\n",
        "\n",
        "- A larger λ increases the penalty, leading to more significant shrinkage of the coefficients, which can reduce overfitting but may also result in underfitting if set too high.\n",
        "- A smaller λ allows the model to fit the training data more closely, potentially capturing more complexity but increasing the risk of overfitting.\n",
        "\n",
        "Thus, selecting an appropriate λ is crucial for balancing model complexity and generalization performance.\n",
        "\n",
        "7. What are the key assumptions of Logistic Regression?\n",
        "* The key assumptions of Logistic Regression include that the dependent variable is binary and that the independent variables are linearly related to the log-odds of the outcome. Additionally, it assumes that observations are independent and that there is no multicollinearity among the predictors.\n",
        "\n",
        "8. What are some alternatives to Logistic Regression for classification tasks?\n",
        "* Some alternatives to Logistic Regression for classification tasks include:\n",
        "\n",
        "- Decision Trees: A non-linear model that splits data into branches based on feature values.\n",
        "- Random Forest: An ensemble method that combines multiple decision trees to improve accuracy and reduce overfitting.\n",
        "- Support Vector Machines (SVM): A model that finds the optimal hyperplane to separate classes in high-dimensional space.\n",
        "- K-Nearest Neighbors (KNN): A non-parametric method that classifies instances based on the majority class of their nearest neighbors.\n",
        "- Gradient Boosting Machines (GBM): An ensemble technique that builds models sequentially to correct errors made by previous models.\n",
        "- Neural Networks: Flexible models that can capture complex relationships in data through multiple layers of interconnected nodes.\n",
        "\n",
        "9. What are Classification Evaluation Metrics?\n",
        "* Classification evaluation metrics are used to assess the performance of classification models. Key metrics include:\n",
        "\n",
        "- Accuracy: The proportion of correctly predicted instances out of the total instances.\n",
        "- Precision: The ratio of true positive predictions to the total predicted positives, indicating the accuracy of positive predictions.\n",
        "- Recall (Sensitivity): The ratio of true positive predictions to the total actual positives, measuring the model's ability to identify positive instances.\n",
        "- F1 Score: The harmonic mean of precision and recall, providing a balance between the two metrics, especially useful for imbalanced datasets.\n",
        "- ROC-AUC (Receiver Operating Characteristic - Area Under Curve): A measure of the model's ability to distinguish between classes, with values ranging from 0 to 1, where 1 indicates perfect classification.\n",
        "- Confusion Matrix: A table that summarizes the performance of a classification model by showing true positives, true negatives, false positives, and false negatives.\n",
        "\n",
        "10. How does class imbalance affect Logistic Regression?\n",
        "* Class imbalance can significantly impact the performance of logistic regression by biasing the model towards the majority class. This often leads to poor predictive performance for the minority class, resulting in skewed estimates and reduced generalization capabilities.\n",
        "\n",
        "11. What is Hyperparameter Tuning in Logistic Regression?\n",
        "* Hyperparameter tuning in Logistic Regression involves optimizing parameters that are not learned from the data, such as the regularization strength (λ) and the type of regularization (L1 or L2). This process aims to improve model performance by finding the best combination of hyperparameters through techniques like grid search or random search.\n",
        "\n",
        "12. What are different solvers in Logistic Regression? Which one should be used?\n",
        "* Different solvers in Logistic Regression include **'liblinear'**, **'newton-cg'**, **'lbfgs'**, **'sag'**, and **'saga'**, each with varying strengths in terms of speed and memory efficiency. The choice of solver depends on the dataset size and characteristics; for smaller datasets, 'liblinear' is often preferred, while 'lbfgs' or 'saga' are better for larger datasets or when using L2 regularization.\n",
        "\n",
        "13. How is Logistic Regression extended for multiclass classification?\n",
        "* Logistic Regression is extended for multiclass classification using techniques like **One-vs-Rest (OvR)**, where a separate binary classifier is trained for each class against all others, or **Softmax Regression**, which generalizes logistic regression by using the softmax function to model the probabilities of multiple classes simultaneously. These approaches allow the model to handle multiple classes effectively while maintaining the underlying principles of logistic regression.\n",
        "\n",
        "14. What are the advantages and disadvantages of Logistic Regression?\n",
        "* **Advantages of Logistic Regression** include its simplicity, interpretability, and efficiency for binary and multiclass classification tasks, as well as its ability to provide probabilities for class membership. **Disadvantages** include its assumption of linearity between the independent variables and the log-odds of the outcome, sensitivity to outliers, and potential underperformance on complex, non-linear relationships in the data.\n",
        "\n",
        "15. What are some use cases of Logistic Regression?\n",
        "* Logistic Regression is widely used in various applications, including:\n",
        "\n",
        "- Medical Diagnosis: Predicting the presence or absence of a disease based on patient features (e.g., predicting diabetes or heart disease).\n",
        "- Credit Scoring: Assessing the likelihood of a borrower defaulting on a loan based on financial history and demographic information.\n",
        "- Marketing: Classifying customers as likely or unlikely to respond to a marketing campaign based on their characteristics and past behavior.\n",
        "- Spam Detection: Identifying whether an email is spam or not based on its content and metadata.\n",
        "- Customer Churn Prediction: Predicting whether a customer will leave a service or subscription based on usage patterns and demographics.\n",
        "- Election Forecasting: Estimating the probability of a candidate winning an election based on polling data and demographic factors.\n",
        "\n",
        "16. What is the difference between Softmax Regression and Logistic Regression?\n",
        "*Softmax Regression is an extension of Logistic Regression used for multiclass classification, outputting a probability distribution across multiple classes, while Logistic Regression is designed for binary classification, providing a single probability for the positive class. Additionally, Softmax uses the softmax function, whereas Logistic Regression employs the logistic (sigmoid) function.\n",
        "\n",
        "17. How do we choose between One-vs-Rest (OvR) and Softmax for multiclass classification?\n",
        "* When choosing between One-vs-Rest (OvR) and Softmax for multiclass classification, consider the nature of your data and the relationships between classes. OvR is simpler and effective for imbalanced datasets, while Softmax provides a unified probability distribution, making it preferable for mutually exclusive classes.\n",
        "\n",
        "18. How do we interpret coefficients in Logistic Regression?\n",
        "* In Logistic Regression, the coefficients represent the change in the log-odds of the outcome for a one-unit increase in the predictor variable, holding all other variables constant. Exponentiating the coefficients (using the exponential function) provides the odds ratio, indicating how the odds of the positive class change with a one-unit increase in the predictor.\n",
        "\n",
        "\n",
        "\n"
      ],
      "metadata": {
        "id": "84aoEM7hNrlV"
      }
    },
    {
      "cell_type": "code",
      "execution_count": 2,
      "metadata": {
        "colab": {
          "base_uri": "https://localhost:8080/"
        },
        "id": "eM0dIWEyNlNS",
        "outputId": "e5755f2e-83ab-4b5b-8269-fcce271e55c3"
      },
      "outputs": [
        {
          "output_type": "stream",
          "name": "stdout",
          "text": [
            "Model Accuracy: 100.00%\n"
          ]
        }
      ],
      "source": [
        "#Question 1\n",
        "import numpy as np\n",
        "import pandas as pd\n",
        "from sklearn import datasets\n",
        "from sklearn.model_selection import train_test_split\n",
        "from sklearn.linear_model import LogisticRegression\n",
        "from sklearn.metrics import accuracy_score\n",
        "\n",
        "iris = datasets.load_iris()\n",
        "X = iris.data\n",
        "y = iris.target\n",
        "\n",
        "X_train, X_test, y_train, y_test = train_test_split(X, y, test_size=0.2, random_state=42)\n",
        "\n",
        "model = LogisticRegression(max_iter=200)\n",
        "\n",
        "model.fit(X_train, y_train)\n",
        "\n",
        "y_pred = model.predict(X_test)\n",
        "\n",
        "accuracy = accuracy_score(y_test, y_pred)\n",
        "\n",
        "print(f'Model Accuracy: {accuracy * 100:.2f}%')"
      ]
    },
    {
      "cell_type": "code",
      "source": [
        "#Question 2\n",
        "import numpy as np\n",
        "import pandas as pd\n",
        "from sklearn import datasets\n",
        "from sklearn.model_selection import train_test_split\n",
        "from sklearn.linear_model import LogisticRegression\n",
        "from sklearn.metrics import accuracy_score\n",
        "\n",
        "iris = datasets.load_iris()\n",
        "X = iris.data\n",
        "y = iris.target\n",
        "\n",
        "X_train, X_test, y_train, y_test = train_test_split(X, y, test_size=0.2, random_state=42)\n",
        "\n",
        "model = LogisticRegression(penalty='l1', solver='liblinear', max_iter=200)\n",
        "\n",
        "model.fit(X_train, y_train)\n",
        "\n",
        "y_pred = model.predict(X_test)\n",
        "\n",
        "accuracy = accuracy_score(y_test, y_pred)\n",
        "\n",
        "print(f'Model Accuracy with L1 Regularization: {accuracy * 100:.2f}%')"
      ],
      "metadata": {
        "colab": {
          "base_uri": "https://localhost:8080/"
        },
        "id": "ploPQZtgPpfp",
        "outputId": "d7328bf5-e1ed-4137-91e8-c81148b060be"
      },
      "execution_count": 3,
      "outputs": [
        {
          "output_type": "stream",
          "name": "stdout",
          "text": [
            "Model Accuracy with L1 Regularization: 100.00%\n"
          ]
        }
      ]
    },
    {
      "cell_type": "code",
      "source": [
        "#Question 3\n",
        "import numpy as np\n",
        "import pandas as pd\n",
        "from sklearn import datasets\n",
        "from sklearn.model_selection import train_test_split\n",
        "from sklearn.linear_model import LogisticRegression\n",
        "from sklearn.metrics import accuracy_score\n",
        "\n",
        "iris = datasets.load_iris()\n",
        "X = iris.data\n",
        "y = iris.target\n",
        "\n",
        "X_train, X_test, y_train, y_test = train_test_split(X, y, test_size=0.2, random_state=42)\n",
        "\n",
        "model = LogisticRegression(penalty='l2', solver='lbfgs', max_iter=200)\n",
        "\n",
        "model.fit(X_train, y_train)\n",
        "\n",
        "y_pred = model.predict(X_test)\n",
        "\n",
        "accuracy = accuracy_score(y_test, y_pred)\n",
        "\n",
        "print(f'Model Accuracy with L2 Regularization: {accuracy * 100:.2f}%')\n",
        "\n",
        "print('Model Coefficients:')\n",
        "print(model.coef_)"
      ],
      "metadata": {
        "colab": {
          "base_uri": "https://localhost:8080/"
        },
        "id": "faQrMY5_QB1H",
        "outputId": "aa60c427-0fc7-49c9-9f81-797bcf78f416"
      },
      "execution_count": 4,
      "outputs": [
        {
          "output_type": "stream",
          "name": "stdout",
          "text": [
            "Model Accuracy with L2 Regularization: 100.00%\n",
            "Model Coefficients:\n",
            "[[-0.39340204  0.96258576 -2.37510761 -0.99874603]\n",
            " [ 0.50840364 -0.25486503 -0.21301366 -0.77575487]\n",
            " [-0.1150016  -0.70772072  2.58812127  1.77450091]]\n"
          ]
        }
      ]
    },
    {
      "cell_type": "code",
      "source": [
        "#Question 4\n",
        "import numpy as np\n",
        "import pandas as pd\n",
        "from sklearn import datasets\n",
        "from sklearn.model_selection import train_test_split\n",
        "from sklearn.linear_model import LogisticRegression\n",
        "from sklearn.metrics import accuracy_score\n",
        "\n",
        "iris = datasets.load_iris()\n",
        "X = iris.data\n",
        "y = iris.target\n",
        "\n",
        "X_train, X_test, y_train, y_test = train_test_split(X, y, test_size=0.2, random_state=42)\n",
        "\n",
        "model = LogisticRegression(penalty='elasticnet', solver='saga', l1_ratio=0.5, max_iter=200)\n",
        "\n",
        "model.fit(X_train, y_train)\n",
        "\n",
        "y_pred = model.predict(X_test)\n",
        "\n",
        "accuracy = accuracy_score(y_test, y_pred)\n",
        "\n",
        "print(f'Model Accuracy with Elastic Net Regularization: {accuracy * 100:.2f}%')\n",
        "\n",
        "print('Model Coefficients:')\n",
        "print(model.coef_)"
      ],
      "metadata": {
        "colab": {
          "base_uri": "https://localhost:8080/"
        },
        "id": "jsqyPQQRQECh",
        "outputId": "ce3d85a8-e730-432d-8130-1734af7949c9"
      },
      "execution_count": 5,
      "outputs": [
        {
          "output_type": "stream",
          "name": "stdout",
          "text": [
            "Model Accuracy with Elastic Net Regularization: 100.00%\n",
            "Model Coefficients:\n",
            "[[ 0.38847183  1.77718718 -2.42257665 -0.70506793]\n",
            " [ 0.07643389  0.          0.         -0.58306244]\n",
            " [-1.25744363 -1.52890502  2.59514401  2.07845701]]\n"
          ]
        },
        {
          "output_type": "stream",
          "name": "stderr",
          "text": [
            "/usr/local/lib/python3.11/dist-packages/sklearn/linear_model/_sag.py:348: ConvergenceWarning: The max_iter was reached which means the coef_ did not converge\n",
            "  warnings.warn(\n"
          ]
        }
      ]
    },
    {
      "cell_type": "code",
      "source": [
        "#Question 5\n",
        "import numpy as np\n",
        "import pandas as pd\n",
        "from sklearn import datasets\n",
        "from sklearn.model_selection import train_test_split\n",
        "from sklearn.linear_model import LogisticRegression\n",
        "from sklearn.metrics import accuracy_score, classification_report\n",
        "\n",
        "iris = datasets.load_iris()\n",
        "X = iris.data\n",
        "y = iris.target\n",
        "\n",
        "X_train, X_test, y_train, y_test = train_test_split(X, y, test_size=0.2, random_state=42)\n",
        "\n",
        "model = LogisticRegression(multi_class='ovr', solver='lbfgs', max_iter=200)\n",
        "\n",
        "model.fit(X_train, y_train)\n",
        "\n",
        "y_pred = model.predict(X_test)\n",
        "\n",
        "accuracy = accuracy_score(y_test, y_pred)\n",
        "\n",
        "print(f'Model Accuracy with OvR: {accuracy * 100:.2f}%')\n",
        "\n",
        "print('Classification Report:')\n",
        "print(classification_report(y_test, y_pred))\n",
        "\n",
        "print('Model Coefficients:')\n",
        "print(model.coef_)"
      ],
      "metadata": {
        "colab": {
          "base_uri": "https://localhost:8080/"
        },
        "id": "R9oZ99yrQE_B",
        "outputId": "404a27f8-fbc5-47f2-82e8-c32340c04f1b"
      },
      "execution_count": 6,
      "outputs": [
        {
          "output_type": "stream",
          "name": "stdout",
          "text": [
            "Model Accuracy with OvR: 96.67%\n",
            "Classification Report:\n",
            "              precision    recall  f1-score   support\n",
            "\n",
            "           0       1.00      1.00      1.00        10\n",
            "           1       1.00      0.89      0.94         9\n",
            "           2       0.92      1.00      0.96        11\n",
            "\n",
            "    accuracy                           0.97        30\n",
            "   macro avg       0.97      0.96      0.97        30\n",
            "weighted avg       0.97      0.97      0.97        30\n",
            "\n",
            "Model Coefficients:\n",
            "[[-0.42762216  0.88771927 -2.21471658 -0.91610036]\n",
            " [-0.03387836 -2.0442989   0.54266011 -1.0179372 ]\n",
            " [-0.38904645 -0.62147609  2.7762982   2.09067085]]\n"
          ]
        },
        {
          "output_type": "stream",
          "name": "stderr",
          "text": [
            "/usr/local/lib/python3.11/dist-packages/sklearn/linear_model/_logistic.py:1256: FutureWarning: 'multi_class' was deprecated in version 1.5 and will be removed in 1.7. Use OneVsRestClassifier(LogisticRegression(..)) instead. Leave it to its default value to avoid this warning.\n",
            "  warnings.warn(\n"
          ]
        }
      ]
    },
    {
      "cell_type": "code",
      "source": [
        "#Question 6\n",
        "import numpy as np\n",
        "import pandas as pd\n",
        "from sklearn import datasets\n",
        "from sklearn.model_selection import train_test_split, GridSearchCV\n",
        "from sklearn.linear_model import LogisticRegression\n",
        "from sklearn.metrics import accuracy_score\n",
        "\n",
        "iris = datasets.load_iris()\n",
        "X = iris.data\n",
        "y = iris.target\n",
        "\n",
        "X_train, X_test, y_train, y_test = train_test_split(X, y, test_size=0.2, random_state=42)\n",
        "\n",
        "model = LogisticRegression(max_iter=200)\n",
        "\n",
        "param_grid = {\n",
        "    'C': [0.01, 0.1, 1, 10, 100],\n",
        "    'penalty': ['l1', 'l2', 'elasticnet'],\n",
        "}\n",
        "\n",
        "grid_search = GridSearchCV(estimator=model, param_grid=param_grid, cv=5, scoring='accuracy')\n",
        "\n",
        "grid_search.fit(X_train, y_train)\n",
        "\n",
        "best_params = grid_search.best_params_\n",
        "best_score = grid_search.best_score_\n",
        "\n",
        "print(f'Best Parameters: {best_params}')\n",
        "print(f'Best Cross-Validation Accuracy: {best_score * 100:.2f}%')\n",
        "\n",
        "best_model = grid_search.best_estimator_\n",
        "y_pred = best_model.predict(X_test)\n",
        "test_accuracy = accuracy_score(y_test, y_pred)\n",
        "\n",
        "print(f'Test Accuracy with Best Parameters: {test_accuracy * 100:.2f}%')"
      ],
      "metadata": {
        "colab": {
          "base_uri": "https://localhost:8080/"
        },
        "id": "ui-iFrRbQHlj",
        "outputId": "164fe335-b4bc-4fe6-82eb-104be5123f48"
      },
      "execution_count": 7,
      "outputs": [
        {
          "output_type": "stream",
          "name": "stdout",
          "text": [
            "Best Parameters: {'C': 1, 'penalty': 'l2'}\n",
            "Best Cross-Validation Accuracy: 96.67%\n",
            "Test Accuracy with Best Parameters: 100.00%\n"
          ]
        },
        {
          "output_type": "stream",
          "name": "stderr",
          "text": [
            "/usr/local/lib/python3.11/dist-packages/sklearn/model_selection/_validation.py:528: FitFailedWarning: \n",
            "50 fits failed out of a total of 75.\n",
            "The score on these train-test partitions for these parameters will be set to nan.\n",
            "If these failures are not expected, you can try to debug them by setting error_score='raise'.\n",
            "\n",
            "Below are more details about the failures:\n",
            "--------------------------------------------------------------------------------\n",
            "25 fits failed with the following error:\n",
            "Traceback (most recent call last):\n",
            "  File \"/usr/local/lib/python3.11/dist-packages/sklearn/model_selection/_validation.py\", line 866, in _fit_and_score\n",
            "    estimator.fit(X_train, y_train, **fit_params)\n",
            "  File \"/usr/local/lib/python3.11/dist-packages/sklearn/base.py\", line 1389, in wrapper\n",
            "    return fit_method(estimator, *args, **kwargs)\n",
            "           ^^^^^^^^^^^^^^^^^^^^^^^^^^^^^^^^^^^^^^\n",
            "  File \"/usr/local/lib/python3.11/dist-packages/sklearn/linear_model/_logistic.py\", line 1193, in fit\n",
            "    solver = _check_solver(self.solver, self.penalty, self.dual)\n",
            "             ^^^^^^^^^^^^^^^^^^^^^^^^^^^^^^^^^^^^^^^^^^^^^^^^^^^\n",
            "  File \"/usr/local/lib/python3.11/dist-packages/sklearn/linear_model/_logistic.py\", line 63, in _check_solver\n",
            "    raise ValueError(\n",
            "ValueError: Solver lbfgs supports only 'l2' or None penalties, got l1 penalty.\n",
            "\n",
            "--------------------------------------------------------------------------------\n",
            "25 fits failed with the following error:\n",
            "Traceback (most recent call last):\n",
            "  File \"/usr/local/lib/python3.11/dist-packages/sklearn/model_selection/_validation.py\", line 866, in _fit_and_score\n",
            "    estimator.fit(X_train, y_train, **fit_params)\n",
            "  File \"/usr/local/lib/python3.11/dist-packages/sklearn/base.py\", line 1389, in wrapper\n",
            "    return fit_method(estimator, *args, **kwargs)\n",
            "           ^^^^^^^^^^^^^^^^^^^^^^^^^^^^^^^^^^^^^^\n",
            "  File \"/usr/local/lib/python3.11/dist-packages/sklearn/linear_model/_logistic.py\", line 1193, in fit\n",
            "    solver = _check_solver(self.solver, self.penalty, self.dual)\n",
            "             ^^^^^^^^^^^^^^^^^^^^^^^^^^^^^^^^^^^^^^^^^^^^^^^^^^^\n",
            "  File \"/usr/local/lib/python3.11/dist-packages/sklearn/linear_model/_logistic.py\", line 63, in _check_solver\n",
            "    raise ValueError(\n",
            "ValueError: Solver lbfgs supports only 'l2' or None penalties, got elasticnet penalty.\n",
            "\n",
            "  warnings.warn(some_fits_failed_message, FitFailedWarning)\n",
            "/usr/local/lib/python3.11/dist-packages/sklearn/model_selection/_search.py:1108: UserWarning: One or more of the test scores are non-finite: [       nan 0.85833333        nan        nan 0.93333333        nan\n",
            "        nan 0.96666667        nan        nan 0.94166667        nan\n",
            "        nan 0.95              nan]\n",
            "  warnings.warn(\n"
          ]
        }
      ]
    },
    {
      "cell_type": "code",
      "source": [
        "#Question 7\n",
        "import numpy as np\n",
        "import pandas as pd\n",
        "from sklearn import datasets\n",
        "from sklearn.model_selection import StratifiedKFold, cross_val_score\n",
        "from sklearn.linear_model import LogisticRegression\n",
        "\n",
        "iris = datasets.load_iris()\n",
        "X = iris.data\n",
        "y = iris.target\n",
        "\n",
        "model = LogisticRegression(max_iter=200)\n",
        "\n",
        "skf = StratifiedKFold(n_splits=5, shuffle=True, random_state=42)\n",
        "\n",
        "accuracies = cross_val_score(model, X, y, cv=skf, scoring='accuracy')\n",
        "\n",
        "average_accuracy = np.mean(accuracies)\n",
        "\n",
        "print(f'Average Accuracy using Stratified K-Fold Cross-Validation: {average_accuracy * 100:.2f}%')"
      ],
      "metadata": {
        "colab": {
          "base_uri": "https://localhost:8080/"
        },
        "id": "Van9MsIJQJAc",
        "outputId": "cf423383-a10e-43f5-8035-1a66626cada7"
      },
      "execution_count": 8,
      "outputs": [
        {
          "output_type": "stream",
          "name": "stdout",
          "text": [
            "Average Accuracy using Stratified K-Fold Cross-Validation: 96.67%\n"
          ]
        }
      ]
    },
    {
      "cell_type": "code",
      "source": [
        "#Question 8\n",
        "import pandas as pd\n",
        "from sklearn.model_selection import train_test_split\n",
        "from sklearn.linear_model import LogisticRegression\n",
        "from sklearn.metrics import accuracy_score\n",
        "\n",
        "data = pd.read_csv('customers-100.csv')\n",
        "\n",
        "print(\"First few rows of the dataset:\")\n",
        "print(data.head())\n",
        "\n",
        "X = data.iloc[:, :-1]\n",
        "y = data.iloc[:, -1]\n",
        "\n",
        "X = pd.get_dummies(X, drop_first=True)\n",
        "\n",
        "X_train, X_test, y_train, y_test = train_test_split(X, y, test_size=0.2, random_state=42)\n",
        "\n",
        "model = LogisticRegression(max_iter=200)\n",
        "\n",
        "model.fit(X_train, y_train)\n",
        "\n",
        "y_pred = model.predict(X_test)\n",
        "\n",
        "accuracy = accuracy_score(y_test, y_pred)\n",
        "\n",
        "print(f'Accuracy of the Logistic Regression model: {accuracy * 100:.2f}%')"
      ],
      "metadata": {
        "colab": {
          "base_uri": "https://localhost:8080/"
        },
        "id": "OYXcLirBQKD7",
        "outputId": "67d3a201-b37c-4bcc-bdfa-5e45a0fb340f"
      },
      "execution_count": 11,
      "outputs": [
        {
          "output_type": "stream",
          "name": "stdout",
          "text": [
            "First few rows of the dataset:\n",
            "   Index      Customer Id First Name Last Name  \\\n",
            "0      1  DD37Cf93aecA6Dc     Sheryl    Baxter   \n",
            "1      2  1Ef7b82A4CAAD10    Preston    Lozano   \n",
            "2      3  6F94879bDAfE5a6        Roy     Berry   \n",
            "3      4  5Cef8BFA16c5e3c      Linda     Olsen   \n",
            "4      5  053d585Ab6b3159     Joanna    Bender   \n",
            "\n",
            "                           Company               City  \\\n",
            "0                  Rasmussen Group       East Leonard   \n",
            "1                      Vega-Gentry  East Jimmychester   \n",
            "2                    Murillo-Perry      Isabelborough   \n",
            "3  Dominguez, Mcmillan and Donovan         Bensonview   \n",
            "4         Martin, Lang and Andrade     West Priscilla   \n",
            "\n",
            "                      Country                 Phone 1                Phone 2  \\\n",
            "0                       Chile            229.077.5154       397.884.0519x718   \n",
            "1                    Djibouti              5153435776       686-620-1820x944   \n",
            "2         Antigua and Barbuda         +1-539-402-0259    (496)978-3969x58947   \n",
            "3          Dominican Republic  001-808-617-6467x12895        +1-813-324-8756   \n",
            "4  Slovakia (Slovak Republic)  001-234-203-0635x76146  001-199-446-3860x3486   \n",
            "\n",
            "                         Email Subscription Date                      Website  \n",
            "0     zunigavanessa@smith.info        2020-08-24   http://www.stephenson.com/  \n",
            "1              vmata@colon.com        2021-04-23        http://www.hobbs.com/  \n",
            "2          beckycarr@hogan.com        2020-03-25     http://www.lawrence.com/  \n",
            "3  stanleyblackwell@benson.org        2020-06-02   http://www.good-lyons.com/  \n",
            "4      colinalvarado@miles.net        2021-04-17  https://goodwin-ingram.com/  \n",
            "Accuracy of the Logistic Regression model: 0.00%\n"
          ]
        },
        {
          "output_type": "stream",
          "name": "stderr",
          "text": [
            "/usr/local/lib/python3.11/dist-packages/sklearn/linear_model/_logistic.py:465: ConvergenceWarning: lbfgs failed to converge (status=1):\n",
            "STOP: TOTAL NO. of ITERATIONS REACHED LIMIT.\n",
            "\n",
            "Increase the number of iterations (max_iter) or scale the data as shown in:\n",
            "    https://scikit-learn.org/stable/modules/preprocessing.html\n",
            "Please also refer to the documentation for alternative solver options:\n",
            "    https://scikit-learn.org/stable/modules/linear_model.html#logistic-regression\n",
            "  n_iter_i = _check_optimize_result(\n"
          ]
        }
      ]
    },
    {
      "cell_type": "code",
      "source": [
        "#Question 10\n",
        "import pandas as pd\n",
        "from sklearn import datasets\n",
        "from sklearn.model_selection import train_test_split\n",
        "from sklearn.linear_model import LogisticRegression\n",
        "from sklearn.multiclass import OneVsOneClassifier\n",
        "from sklearn.metrics import accuracy_score\n",
        "\n",
        "iris = datasets.load_iris()\n",
        "X = iris.data\n",
        "y = iris.target\n",
        "\n",
        "X_train, X_test, y_train, y_test = train_test_split(X, y, test_size=0.2, random_state=42)\n",
        "\n",
        "logistic_model = LogisticRegression(max_iter=200)\n",
        "\n",
        "ovo_classifier = OneVsOneClassifier(logistic_model)\n",
        "\n",
        "ovo_classifier.fit(X_train, y_train)\n",
        "\n",
        "y_pred = ovo_classifier.predict(X_test)\n",
        "\n",
        "accuracy = accuracy_score(y_test, y_pred)\n",
        "\n",
        "print(f'Accuracy of One-vs-One Multiclass Logistic Regression: {accuracy * 100:.2f}%')"
      ],
      "metadata": {
        "colab": {
          "base_uri": "https://localhost:8080/"
        },
        "id": "_eB43XWiQNI7",
        "outputId": "219eb9c2-f326-410e-dad1-96566715d5a4"
      },
      "execution_count": 16,
      "outputs": [
        {
          "output_type": "stream",
          "name": "stdout",
          "text": [
            "Accuracy of One-vs-One Multiclass Logistic Regression: 100.00%\n"
          ]
        }
      ]
    },
    {
      "cell_type": "code",
      "source": [
        "#Question 11\n",
        "import pandas as pd\n",
        "import numpy as np\n",
        "import seaborn as sns\n",
        "import matplotlib.pyplot as plt\n",
        "from sklearn import datasets\n",
        "from sklearn.model_selection import train_test_split\n",
        "from sklearn.linear_model import LogisticRegression\n",
        "from sklearn.metrics import confusion_matrix, accuracy_score\n",
        "\n",
        "iris = datasets.load_iris()\n",
        "X = iris.data[iris.target != 2]\n",
        "y = iris.target[iris.target != 2]\n",
        "\n",
        "X_train, X_test, y_train, y_test = train_test_split(X, y, test_size=0.2, random_state=42)\n",
        "\n",
        "model = LogisticRegression(max_iter=200)\n",
        "\n",
        "model.fit(X_train, y_train)\n",
        "\n",
        "y_pred = model.predict(X_test)\n",
        "\n",
        "accuracy = accuracy_score(y_test, y_pred)\n",
        "print(f'Accuracy of the Logistic Regression model: {accuracy * 100:.2f}%')\n",
        "\n",
        "cm = confusion_matrix(y_test, y_pred)\n",
        "\n",
        "plt.figure(figsize=(8, 6))\n",
        "sns.heatmap(cm, annot=True, fmt='d', cmap='Blues', xticklabels=['Class 0', 'Class 1'], yticklabels=['Class 0', 'Class 1'])\n",
        "plt.title('Confusion Matrix')\n",
        "plt.xlabel('Predicted Label')\n",
        "plt.ylabel('True Label')\n",
        "plt.show()"
      ],
      "metadata": {
        "colab": {
          "base_uri": "https://localhost:8080/",
          "height": 581
        },
        "id": "VxDrbTAKQPhA",
        "outputId": "26d817dd-b2b2-41d5-95d1-bb6f7eea4522"
      },
      "execution_count": 17,
      "outputs": [
        {
          "output_type": "stream",
          "name": "stdout",
          "text": [
            "Accuracy of the Logistic Regression model: 100.00%\n"
          ]
        },
        {
          "output_type": "display_data",
          "data": {
            "text/plain": [
              "<Figure size 800x600 with 2 Axes>"
            ],
            "image/png": "[encoded data removed]"
          },
          "metadata": {}
        }
      ]
    },
    {
      "cell_type": "code",
      "source": [
        "#Question 12\n",
        "import pandas as pd\n",
        "import numpy as np\n",
        "from sklearn import datasets\n",
        "from sklearn.model_selection import train_test_split\n",
        "from sklearn.linear_model import LogisticRegression\n",
        "from sklearn.metrics import precision_score, recall_score, f1_score, accuracy_score\n",
        "\n",
        "iris = datasets.load_iris()\n",
        "X = iris.data[iris.target != 2]\n",
        "y = iris.target[iris.target != 2]\n",
        "\n",
        "X_train, X_test, y_train, y_test = train_test_split(X, y, test_size=0.2, random_state=42)\n",
        "\n",
        "model = LogisticRegression(max_iter=200)\n",
        "\n",
        "model.fit(X_train, y_train)\n",
        "\n",
        "y_pred = model.predict(X_test)\n",
        "\n",
        "accuracy = accuracy_score(y_test, y_pred)\n",
        "print(f'Accuracy of the Logistic Regression model: {accuracy * 100:.2f}%')\n",
        "\n",
        "precision = precision_score(y_test, y_pred)\n",
        "recall = recall_score(y_test, y_pred)\n",
        "f1 = f1_score(y_test, y_pred)\n",
        "\n",
        "print(f'Precision: {precision:.2f}')\n",
        "print(f'Recall: {recall:.2f}')\n",
        "print(f'F1-Score: {f1:.2f}')"
      ],
      "metadata": {
        "colab": {
          "base_uri": "https://localhost:8080/"
        },
        "id": "AyfYVl2oQRaE",
        "outputId": "6041caab-f301-41c4-9b09-158425067dd1"
      },
      "execution_count": 18,
      "outputs": [
        {
          "output_type": "stream",
          "name": "stdout",
          "text": [
            "Accuracy of the Logistic Regression model: 100.00%\n",
            "Precision: 1.00\n",
            "Recall: 1.00\n",
            "F1-Score: 1.00\n"
          ]
        }
      ]
    },
    {
      "cell_type": "code",
      "source": [
        "#Question 13\n",
        "import numpy as np\n",
        "import pandas as pd\n",
        "from sklearn.datasets import make_classification\n",
        "from sklearn.model_selection import train_test_split\n",
        "from sklearn.linear_model import LogisticRegression\n",
        "from sklearn.metrics import classification_report, accuracy_score\n",
        "\n",
        "X, y = make_classification(n_samples=1000, n_features=20, n_informative=2, n_redundant=10,\n",
        "                           n_clusters_per_class=1, weights=[0.9, 0.1], flip_y=0, random_state=42)\n",
        "\n",
        "X_train, X_test, y_train, y_test = train_test_split(X, y, test_size=0.2, random_state=42)\n",
        "\n",
        "model = LogisticRegression(class_weight='balanced', max_iter=200)\n",
        "\n",
        "model.fit(X_train, y_train)\n",
        "\n",
        "y_pred = model.predict(X_test)\n",
        "\n",
        "accuracy = accuracy_score(y_test, y_pred)\n",
        "print(f'Accuracy of the Logistic Regression model: {accuracy * 100:.2f}%')\n",
        "\n",
        "print(\"\\nClassification Report:\")\n",
        "print(classification_report(y_test, y_pred))"
      ],
      "metadata": {
        "colab": {
          "base_uri": "https://localhost:8080/"
        },
        "id": "XdNS4qs9QSiu",
        "outputId": "a4a224bb-6e92-4b27-c79d-c7205afa46b3"
      },
      "execution_count": 19,
      "outputs": [
        {
          "output_type": "stream",
          "name": "stdout",
          "text": [
            "Accuracy of the Logistic Regression model: 96.50%\n",
            "\n",
            "Classification Report:\n",
            "              precision    recall  f1-score   support\n",
            "\n",
            "           0       1.00      0.96      0.98       186\n",
            "           1       0.67      1.00      0.80        14\n",
            "\n",
            "    accuracy                           0.96       200\n",
            "   macro avg       0.83      0.98      0.89       200\n",
            "weighted avg       0.98      0.96      0.97       200\n",
            "\n"
          ]
        }
      ]
    },
    {
      "cell_type": "code",
      "source": [
        "#Question 14\n",
        "import pandas as pd\n",
        "import numpy as np\n",
        "from sklearn.model_selection import train_test_split\n",
        "from sklearn.linear_model import LogisticRegression\n",
        "from sklearn.metrics import classification_report, accuracy_score\n",
        "from sklearn.preprocessing import StandardScaler\n",
        "\n",
        "titanic_data = pd.read_csv('train.csv')\n",
        "\n",
        "print(\"First few rows of the dataset:\")\n",
        "print(titanic_data.head())\n",
        "\n",
        "titanic_data['Age'].fillna(titanic_data['Age'].median(), inplace=True)\n",
        "\n",
        "titanic_data['Embarked'].fillna(titanic_data['Embarked'].mode()[0], inplace=True)\n",
        "\n",
        "titanic_data.drop(columns=['Cabin'], inplace=True)\n",
        "\n",
        "titanic_data['Sex'] = titanic_data['Sex'].map({'female': 0, 'male': 1})\n",
        "\n",
        "titanic_data = pd.get_dummies(titanic_data, columns=['Embarked'], drop_first=True)\n",
        "\n",
        "X = titanic_data[['Pclass', 'Sex', 'Age', 'SibSp', 'Parch', 'Fare', 'Embarked_Q', 'Embarked_S']]\n",
        "y = titanic_data['Survived']\n",
        "\n",
        "X_train, X_test, y_train, y_test = train_test_split(X, y, test_size=0.2, random_state=42)\n",
        "\n",
        "scaler = StandardScaler()\n",
        "X_train = scaler.fit_transform(X_train)\n",
        "X_test = scaler.transform(X_test)\n",
        "\n",
        "model = LogisticRegression(max_iter=200)\n",
        "\n",
        "model.fit(X_train, y_train)\n",
        "\n",
        "y_pred = model.predict(X_test)\n",
        "\n",
        "accuracy = accuracy_score(y_test, y_pred)\n",
        "print(f'Accuracy of the Logistic Regression model: {accuracy * 100:.2f}%')\n",
        "\n",
        "print(\"\\nClassification Report:\")\n",
        "print(classification_report(y_test, y_pred))"
      ],
      "metadata": {
        "colab": {
          "base_uri": "https://localhost:8080/"
        },
        "id": "dPLUCtrKQTRk",
        "outputId": "6a156d0b-4338-46da-a1f2-f294a4b9fb1b"
      },
      "execution_count": 20,
      "outputs": [
        {
          "output_type": "stream",
          "name": "stdout",
          "text": [
            "First few rows of the dataset:\n",
            "   PassengerId  Survived  Pclass  \\\n",
            "0            1         0       3   \n",
            "1            2         1       1   \n",
            "2            3         1       3   \n",
            "3            4         1       1   \n",
            "4            5         0       3   \n",
            "\n",
            "                                                Name     Sex   Age  SibSp  \\\n",
            "0                            Braund, Mr. Owen Harris    male  22.0      1   \n",
            "1  Cumings, Mrs. John Bradley (Florence Briggs Th...  female  38.0      1   \n",
            "2                             Heikkinen, Miss. Laina  female  26.0      0   \n",
            "3       Futrelle, Mrs. Jacques Heath (Lily May Peel)  female  35.0      1   \n",
            "4                           Allen, Mr. William Henry    male  35.0      0   \n",
            "\n",
            "   Parch            Ticket     Fare Cabin Embarked  \n",
            "0      0         A/5 21171   7.2500   NaN        S  \n",
            "1      0          PC 17599  71.2833   C85        C  \n",
            "2      0  STON/O2. 3101282   7.9250   NaN        S  \n",
            "3      0            113803  53.1000  C123        S  \n",
            "4      0            373450   8.0500   NaN        S  \n",
            "Accuracy of the Logistic Regression model: 81.01%\n",
            "\n",
            "Classification Report:\n",
            "              precision    recall  f1-score   support\n",
            "\n",
            "           0       0.83      0.86      0.84       105\n",
            "           1       0.79      0.74      0.76        74\n",
            "\n",
            "    accuracy                           0.81       179\n",
            "   macro avg       0.81      0.80      0.80       179\n",
            "weighted avg       0.81      0.81      0.81       179\n",
            "\n"
          ]
        },
        {
          "output_type": "stream",
          "name": "stderr",
          "text": [
            "<ipython-input-20-46e68dd467f4>:14: FutureWarning: A value is trying to be set on a copy of a DataFrame or Series through chained assignment using an inplace method.\n",
            "The behavior will change in pandas 3.0. This inplace method will never work because the intermediate object on which we are setting values always behaves as a copy.\n",
            "\n",
            "For example, when doing 'df[col].method(value, inplace=True)', try using 'df.method({col: value}, inplace=True)' or df[col] = df[col].method(value) instead, to perform the operation inplace on the original object.\n",
            "\n",
            "\n",
            "  titanic_data['Age'].fillna(titanic_data['Age'].median(), inplace=True)\n",
            "<ipython-input-20-46e68dd467f4>:16: FutureWarning: A value is trying to be set on a copy of a DataFrame or Series through chained assignment using an inplace method.\n",
            "The behavior will change in pandas 3.0. This inplace method will never work because the intermediate object on which we are setting values always behaves as a copy.\n",
            "\n",
            "For example, when doing 'df[col].method(value, inplace=True)', try using 'df.method({col: value}, inplace=True)' or df[col] = df[col].method(value) instead, to perform the operation inplace on the original object.\n",
            "\n",
            "\n",
            "  titanic_data['Embarked'].fillna(titanic_data['Embarked'].mode()[0], inplace=True)\n"
          ]
        }
      ]
    },
    {
      "cell_type": "code",
      "source": [
        "#Question 15\n",
        "import pandas as pd\n",
        "import numpy as np\n",
        "from sklearn import datasets\n",
        "from sklearn.model_selection import train_test_split\n",
        "from sklearn.linear_model import LogisticRegression\n",
        "from sklearn.metrics import accuracy_score\n",
        "from sklearn.preprocessing import StandardScaler\n",
        "\n",
        "iris = datasets.load_iris()\n",
        "X = iris.data\n",
        "y = iris.target\n",
        "\n",
        "X_train, X_test, y_train, y_test = train_test_split(X, y, test_size=0.2, random_state=42)\n",
        "\n",
        "model_without_scaling = LogisticRegression(max_iter=200)\n",
        "model_without_scaling.fit(X_train, y_train)\n",
        "y_pred_without_scaling = model_without_scaling.predict(X_test)\n",
        "accuracy_without_scaling = accuracy_score(y_test, y_pred_without_scaling)\n",
        "\n",
        "print(f'Accuracy of Logistic Regression model without scaling: {accuracy_without_scaling * 100:.2f}%')\n",
        "\n",
        "scaler = StandardScaler()\n",
        "X_train_scaled = scaler.fit_transform(X_train)\n",
        "X_test_scaled = scaler.transform(X_test)\n",
        "\n",
        "model_with_scaling = LogisticRegression(max_iter=200)\n",
        "model_with_scaling.fit(X_train_scaled, y_train)\n",
        "y_pred_with_scaling = model_with_scaling.predict(X_test_scaled)\n",
        "accuracy_with_scaling = accuracy_score(y_test, y_pred_with_scaling)\n",
        "\n",
        "print(f'Accuracy of Logistic Regression model with scaling: {accuracy_with_scaling * 100:.2f}%')\n",
        "\n",
        "print(\"\\nComparison of Results:\")\n",
        "print(f'Accuracy without scaling: {accuracy_without_scaling * 100:.2f}%')\n",
        "print(f'Accuracy with scaling: {accuracy_with_scaling * 100:.2f}%')"
      ],
      "metadata": {
        "colab": {
          "base_uri": "https://localhost:8080/"
        },
        "id": "31fQWbDyQWMi",
        "outputId": "ab726cf7-807d-43d2-a557-7478c23c5499"
      },
      "execution_count": 21,
      "outputs": [
        {
          "output_type": "stream",
          "name": "stdout",
          "text": [
            "Accuracy of Logistic Regression model without scaling: 100.00%\n",
            "Accuracy of Logistic Regression model with scaling: 100.00%\n",
            "\n",
            "Comparison of Results:\n",
            "Accuracy without scaling: 100.00%\n",
            "Accuracy with scaling: 100.00%\n"
          ]
        }
      ]
    },
    {
      "cell_type": "code",
      "source": [
        "#Question 16\n",
        "import pandas as pd\n",
        "import numpy as np\n",
        "from sklearn import datasets\n",
        "from sklearn.model_selection import train_test_split\n",
        "from sklearn.linear_model import LogisticRegression\n",
        "from sklearn.metrics import roc_auc_score, roc_curve\n",
        "import matplotlib.pyplot as plt\n",
        "\n",
        "iris = datasets.load_iris()\n",
        "X = iris.data[iris.target != 2]\n",
        "y = iris.target[iris.target != 2]\n",
        "\n",
        "X_train, X_test, y_train, y_test = train_test_split(X, y, test_size=0.2, random_state=42)\n",
        "\n",
        "model = LogisticRegression(max_iter=200)\n",
        "\n",
        "model.fit(X_train, y_train)\n",
        "\n",
        "y_pred_proba = model.predict_proba(X_test)[:, 1]\n",
        "roc_auc = roc_auc_score(y_test, y_pred_proba)\n",
        "print(f'ROC-AUC Score: {roc_auc:.2f}')\n",
        "\n",
        "fpr, tpr, thresholds = roc_curve(y_test, y_pred_proba)\n",
        "\n",
        "plt.figure(figsize=(8, 6))\n",
        "plt.plot(fpr, tpr, color='blue', label='ROC Curve (area = %0.2f)' % roc_auc)\n",
        "plt.plot([0, 1], [0, 1], color='red', linestyle='--')\n",
        "plt.xlim([0.0, 1.0])\n",
        "plt.ylim([0.0, 1.05])\n",
        "plt.xlabel('False Positive Rate')\n",
        "plt.ylabel('True Positive Rate')\n",
        "plt.title('Receiver Operating Characteristic (ROC) Curve')\n",
        "plt.legend(loc='lower right')\n",
        "plt.grid()\n",
        "plt.show()"
      ],
      "metadata": {
        "colab": {
          "base_uri": "https://localhost:8080/",
          "height": 581
        },
        "id": "9TgHjeZ1QZuQ",
        "outputId": "9b29f316-95f4-46d1-aa45-63feae37155d"
      },
      "execution_count": 22,
      "outputs": [
        {
          "output_type": "stream",
          "name": "stdout",
          "text": [
            "ROC-AUC Score: 1.00\n"
          ]
        },
        {
          "output_type": "display_data",
          "data": {
            "text/plain": [
              "<Figure size 800x600 with 1 Axes>"
            ],
            "image/png": "[encoded data removed]"
          },
          "metadata": {}
        }
      ]
    },
    {
      "cell_type": "code",
      "source": [
        "#Question 17\n",
        "import pandas as pd\n",
        "import numpy as np\n",
        "from sklearn import datasets\n",
        "from sklearn.model_selection import train_test_split\n",
        "from sklearn.linear_model import LogisticRegression\n",
        "from sklearn.metrics import accuracy_score\n",
        "\n",
        "iris = datasets.load_iris()\n",
        "X = iris.data[iris.target != 2]\n",
        "y = iris.target[iris.target != 2]\n",
        "\n",
        "X_train, X_test, y_train, y_test = train_test_split(X, y, test_size=0.2, random_state=42)\n",
        "\n",
        "model = LogisticRegression(C=0.5, max_iter=200)\n",
        "\n",
        "model.fit(X_train, y_train)\n",
        "\n",
        "y_pred = model.predict(X_test)\n",
        "\n",
        "accuracy = accuracy_score(y_test, y_pred)\n",
        "print(f'Accuracy of the Logistic Regression model with C=0.5: {accuracy * 100:.2f}%')"
      ],
      "metadata": {
        "colab": {
          "base_uri": "https://localhost:8080/"
        },
        "id": "XSfGuZkdQa_C",
        "outputId": "de6c6d2e-a7ee-4be0-ac04-fb76e9e01c2e"
      },
      "execution_count": 23,
      "outputs": [
        {
          "output_type": "stream",
          "name": "stdout",
          "text": [
            "Accuracy of the Logistic Regression model with C=0.5: 100.00%\n"
          ]
        }
      ]
    },
    {
      "cell_type": "code",
      "source": [
        "#Question 18\n",
        "import pandas as pd\n",
        "import numpy as np\n",
        "from sklearn import datasets\n",
        "from sklearn.model_selection import train_test_split\n",
        "from sklearn.linear_model import LogisticRegression\n",
        "\n",
        "iris = datasets.load_iris()\n",
        "X = iris.data\n",
        "y = iris.target\n",
        "\n",
        "feature_names = iris.feature_names\n",
        "X_df = pd.DataFrame(X, columns=feature_names)\n",
        "\n",
        "X_train, X_test, y_train, y_test = train_test_split(X_df, y, test_size=0.2, random_state=42)\n",
        "\n",
        "model = LogisticRegression(max_iter=200)\n",
        "\n",
        "model.fit(X_train, y_train)\n",
        "\n",
        "coefficients = model.coef_\n",
        "\n",
        "importance_df = pd.DataFrame(coefficients, columns=feature_names)\n",
        "importance_df.index = [f'Class {i}' for i in range(len(importance_df))]\n",
        "\n",
        "print(\"Feature Coefficients:\")\n",
        "print(importance_df)\n",
        "\n",
        "for i in range(len(importance_df)):\n",
        "    print(f\"\\nImportant features for Class {i}:\")\n",
        "    important_features = importance_df.iloc[i].sort_values(ascending=False)\n",
        "    print(important_features)"
      ],
      "metadata": {
        "colab": {
          "base_uri": "https://localhost:8080/"
        },
        "id": "9Azq5UD-QbwD",
        "outputId": "e449cee5-de9d-4d9b-d2a9-5f3617300c9f"
      },
      "execution_count": 24,
      "outputs": [
        {
          "output_type": "stream",
          "name": "stdout",
          "text": [
            "Feature Coefficients:\n",
            "         sepal length (cm)  sepal width (cm)  petal length (cm)  \\\n",
            "Class 0          -0.393402          0.962586          -2.375108   \n",
            "Class 1           0.508404         -0.254865          -0.213014   \n",
            "Class 2          -0.115002         -0.707721           2.588121   \n",
            "\n",
            "         petal width (cm)  \n",
            "Class 0         -0.998746  \n",
            "Class 1         -0.775755  \n",
            "Class 2          1.774501  \n",
            "\n",
            "Important features for Class 0:\n",
            "sepal width (cm)     0.962586\n",
            "sepal length (cm)   -0.393402\n",
            "petal width (cm)    -0.998746\n",
            "petal length (cm)   -2.375108\n",
            "Name: Class 0, dtype: float64\n",
            "\n",
            "Important features for Class 1:\n",
            "sepal length (cm)    0.508404\n",
            "petal length (cm)   -0.213014\n",
            "sepal width (cm)    -0.254865\n",
            "petal width (cm)    -0.775755\n",
            "Name: Class 1, dtype: float64\n",
            "\n",
            "Important features for Class 2:\n",
            "petal length (cm)    2.588121\n",
            "petal width (cm)     1.774501\n",
            "sepal length (cm)   -0.115002\n",
            "sepal width (cm)    -0.707721\n",
            "Name: Class 2, dtype: float64\n"
          ]
        }
      ]
    },
    {
      "cell_type": "code",
      "source": [
        "#Question 19\n",
        "import pandas as pd\n",
        "import numpy as np\n",
        "from sklearn import datasets\n",
        "from sklearn.model_selection import train_test_split\n",
        "from sklearn.linear_model import LogisticRegression\n",
        "from sklearn.metrics import cohen_kappa_score, accuracy_score\n",
        "\n",
        "iris = datasets.load_iris()\n",
        "X = iris.data[iris.target != 2]\n",
        "y = iris.target[iris.target != 2]\n",
        "\n",
        "X_train, X_test, y_train, y_test = train_test_split(X, y, test_size=0.2, random_state=42)\n",
        "\n",
        "model = LogisticRegression(max_iter=200)\n",
        "\n",
        "model.fit(X_train, y_train)\n",
        "\n",
        "y_pred = model.predict(X_test)\n",
        "\n",
        "accuracy = accuracy_score(y_test, y_pred)\n",
        "print(f'Accuracy of the Logistic Regression model: {accuracy * 100:.2f}%')\n",
        "\n",
        "kappa_score = cohen_kappa_score(y_test, y_pred)\n",
        "print(f\"Cohen's Kappa Score: {kappa_score:.2f}\")"
      ],
      "metadata": {
        "colab": {
          "base_uri": "https://localhost:8080/"
        },
        "id": "_sDCr0AgQctO",
        "outputId": "d1ca0d82-b89e-4d56-8357-e95d0ca87e30"
      },
      "execution_count": 25,
      "outputs": [
        {
          "output_type": "stream",
          "name": "stdout",
          "text": [
            "Accuracy of the Logistic Regression model: 100.00%\n",
            "Cohen's Kappa Score: 1.00\n"
          ]
        }
      ]
    },
    {
      "cell_type": "code",
      "source": [
        "#Question 20\n",
        "import pandas as pd\n",
        "import numpy as np\n",
        "import matplotlib.pyplot as plt\n",
        "from sklearn import datasets\n",
        "from sklearn.model_selection import train_test_split\n",
        "from sklearn.linear_model import LogisticRegression\n",
        "from sklearn.metrics import precision_recall_curve, average_precision_score\n",
        "\n",
        "iris = datasets.load_iris()\n",
        "X = iris.data[iris.target != 2]\n",
        "y = iris.target[iris.target != 2]\n",
        "\n",
        "X_train, X_test, y_train, y_test = train_test_split(X, y, test_size=0.2, random_state=42)\n",
        "\n",
        "model = LogisticRegression(max_iter=200)\n",
        "\n",
        "model.fit(X_train, y_train)\n",
        "\n",
        "y_scores = model.predict_proba(X_test)[:, 1]\n",
        "\n",
        "precision, recall, _ = precision_recall_curve(y_test, y_scores)\n",
        "\n",
        "average_precision = average_precision_score(y_test, y_scores)\n",
        "print(f'Average Precision Score: {average_precision:.2f}')\n",
        "\n",
        "plt.figure(figsize=(8, 6))\n",
        "plt.plot(recall, precision, marker='.', label='Precision-Recall curve')\n",
        "plt.xlabel('Recall')\n",
        "plt.ylabel('Precision')\n",
        "plt.title('Precision-Recall Curve')\n",
        "plt.xlim([0.0, 1.0])\n",
        "plt.ylim([0.0, 1.05])\n",
        "plt.grid()\n",
        "plt.legend()\n",
        "plt.show()"
      ],
      "metadata": {
        "colab": {
          "base_uri": "https://localhost:8080/",
          "height": 581
        },
        "id": "tpwf2-3OQeFZ",
        "outputId": "11022bd0-3f16-45e4-e1cc-02173367165d"
      },
      "execution_count": 26,
      "outputs": [
        {
          "output_type": "stream",
          "name": "stdout",
          "text": [
            "Average Precision Score: 1.00\n"
          ]
        },
        {
          "output_type": "display_data",
          "data": {
            "text/plain": [
              "<Figure size 800x600 with 1 Axes>"
            ],
            "image/png": "[encoded data removed]"
          },
          "metadata": {}
        }
      ]
    },
    {
      "cell_type": "code",
      "source": [
        "#Question 21\n",
        "import pandas as pd\n",
        "import numpy as np\n",
        "from sklearn import datasets\n",
        "from sklearn.model_selection import train_test_split\n",
        "from sklearn.linear_model import LogisticRegression\n",
        "from sklearn.metrics import accuracy_score\n",
        "\n",
        "iris = datasets.load_iris()\n",
        "X = iris.data[iris.target != 2]\n",
        "y = iris.target[iris.target != 2]\n",
        "\n",
        "X_train, X_test, y_train, y_test = train_test_split(X, y, test_size=0.2, random_state=42)\n",
        "\n",
        "solvers = ['liblinear', 'saga', 'lbfgs']\n",
        "accuracies = {}\n",
        "\n",
        "for solver in solvers:\n",
        "    model = LogisticRegression(solver=solver, max_iter=200)\n",
        "    model.fit(X_train, y_train)\n",
        "    y_pred = model.predict(X_test)\n",
        "    accuracy = accuracy_score(y_test, y_pred)\n",
        "    accuracies[solver] = accuracy\n",
        "    print(f'Accuracy of Logistic Regression with solver \"{solver}\": {accuracy * 100:.2f}%')\n",
        "\n",
        "print(\"\\nComparison of Accuracies:\")\n",
        "for solver, accuracy in accuracies.items():\n",
        "    print(f'Solver: {solver}, Accuracy: {accuracy * 100:.2f}%')"
      ],
      "metadata": {
        "colab": {
          "base_uri": "https://localhost:8080/"
        },
        "id": "37G2HcmVQjaH",
        "outputId": "a387c504-61ed-447e-c24f-2a6c9cfd16f5"
      },
      "execution_count": 27,
      "outputs": [
        {
          "output_type": "stream",
          "name": "stdout",
          "text": [
            "Accuracy of Logistic Regression with solver \"liblinear\": 100.00%\n",
            "Accuracy of Logistic Regression with solver \"saga\": 100.00%\n",
            "Accuracy of Logistic Regression with solver \"lbfgs\": 100.00%\n",
            "\n",
            "Comparison of Accuracies:\n",
            "Solver: liblinear, Accuracy: 100.00%\n",
            "Solver: saga, Accuracy: 100.00%\n",
            "Solver: lbfgs, Accuracy: 100.00%\n"
          ]
        },
        {
          "output_type": "stream",
          "name": "stderr",
          "text": [
            "/usr/local/lib/python3.11/dist-packages/sklearn/linear_model/_sag.py:348: ConvergenceWarning: The max_iter was reached which means the coef_ did not converge\n",
            "  warnings.warn(\n"
          ]
        }
      ]
    },
    {
      "cell_type": "code",
      "source": [
        "#Question 22\n",
        "import pandas as pd\n",
        "import numpy as np\n",
        "from sklearn import datasets\n",
        "from sklearn.model_selection import train_test_split\n",
        "from sklearn.linear_model import LogisticRegression\n",
        "from sklearn.metrics import matthews_corrcoef, accuracy_score\n",
        "\n",
        "iris = datasets.load_iris()\n",
        "X = iris.data[iris.target != 2]\n",
        "y = iris.target[iris.target != 2]\n",
        "\n",
        "X_train, X_test, y_train, y_test = train_test_split(X, y, test_size=0.2, random_state=42)\n",
        "\n",
        "model = LogisticRegression(max_iter=200)\n",
        "\n",
        "model.fit(X_train, y_train)\n",
        "\n",
        "y_pred = model.predict(X_test)\n",
        "\n",
        "accuracy = accuracy_score(y_test, y_pred)\n",
        "print(f'Accuracy of the Logistic Regression model: {accuracy * 100:.2f}%')\n",
        "\n",
        "mcc = matthews_corrcoef(y_test, y_pred)\n",
        "print(f'Matthews Correlation Coefficient (MCC): {mcc:.2f}')"
      ],
      "metadata": {
        "colab": {
          "base_uri": "https://localhost:8080/"
        },
        "id": "S9pbaKW8Qkrg",
        "outputId": "b4dc64f7-6c95-49b2-ff48-04e6b732b597"
      },
      "execution_count": 28,
      "outputs": [
        {
          "output_type": "stream",
          "name": "stdout",
          "text": [
            "Accuracy of the Logistic Regression model: 100.00%\n",
            "Matthews Correlation Coefficient (MCC): 1.00\n"
          ]
        }
      ]
    },
    {
      "cell_type": "code",
      "source": [
        "#Question 23\n",
        "import pandas as pd\n",
        "import numpy as np\n",
        "from sklearn import datasets\n",
        "from sklearn.model_selection import train_test_split\n",
        "from sklearn.linear_model import LogisticRegression\n",
        "from sklearn.preprocessing import StandardScaler\n",
        "from sklearn.metrics import accuracy_score\n",
        "\n",
        "iris = datasets.load_iris()\n",
        "X = iris.data[iris.target != 2]\n",
        "y = iris.target[iris.target != 2]\n",
        "\n",
        "X_train, X_test, y_train, y_test = train_test_split(X, y, test_size=0.2, random_state=42)\n",
        "\n",
        "model_raw = LogisticRegression(max_iter=200)\n",
        "model_raw.fit(X_train, y_train)\n",
        "y_pred_raw = model_raw.predict(X_test)\n",
        "accuracy_raw = accuracy_score(y_test, y_pred_raw)\n",
        "print(f'Accuracy of Logistic Regression on raw data: {accuracy_raw * 100:.2f}%')\n",
        "\n",
        "scaler = StandardScaler()\n",
        "X_train_scaled = scaler.fit_transform(X_train)\n",
        "X_test_scaled = scaler.transform(X_test)\n",
        "\n",
        "model_scaled = LogisticRegression(max_iter=200)\n",
        "model_scaled.fit(X_train_scaled, y_train)\n",
        "y_pred_scaled = model_scaled.predict(X_test_scaled)\n",
        "accuracy_scaled = accuracy_score(y_test, y_pred_scaled)\n",
        "print(f'Accuracy of Logistic Regression on standardized data: {accuracy_scaled * 100:.2f}%')\n",
        "\n",
        "print(\"\\nComparison of Accuracies:\")\n",
        "print(f'Raw Data Accuracy: {accuracy_raw * 100:.2f}%')\n",
        "print(f'Standardized Data Accuracy: {accuracy_scaled * 100:.2f}%')"
      ],
      "metadata": {
        "colab": {
          "base_uri": "https://localhost:8080/"
        },
        "id": "R-TeDCvSQm6E",
        "outputId": "93284c9c-592b-4fd1-ac1a-39546b8a31b7"
      },
      "execution_count": 29,
      "outputs": [
        {
          "output_type": "stream",
          "name": "stdout",
          "text": [
            "Accuracy of Logistic Regression on raw data: 100.00%\n",
            "Accuracy of Logistic Regression on standardized data: 100.00%\n",
            "\n",
            "Comparison of Accuracies:\n",
            "Raw Data Accuracy: 100.00%\n",
            "Standardized Data Accuracy: 100.00%\n"
          ]
        }
      ]
    },
    {
      "cell_type": "code",
      "source": [
        "#Question 24\n",
        "import numpy as np\n",
        "import pandas as pd\n",
        "from sklearn import datasets\n",
        "from sklearn.model_selection import train_test_split, GridSearchCV\n",
        "from sklearn.linear_model import LogisticRegression\n",
        "from sklearn.metrics import accuracy_score\n",
        "\n",
        "iris = datasets.load_iris()\n",
        "X = iris.data[iris.target != 2]\n",
        "y = iris.target[iris.target != 2]\n",
        "\n",
        "X_train, X_test, y_train, y_test = train_test_split(X, y, test_size=0.2, random_state=42)\n",
        "\n",
        "model = LogisticRegression(max_iter=200)\n",
        "\n",
        "param_grid = {'C': np.logspace(-4, 4, 10)}\n",
        "\n",
        "grid_search = GridSearchCV(model, param_grid, cv=5, scoring='accuracy')\n",
        "\n",
        "grid_search.fit(X_train, y_train)\n",
        "\n",
        "best_C = grid_search.best_params_['C']\n",
        "best_accuracy = grid_search.best_score_\n",
        "\n",
        "print(f'Optimal C value: {best_C}')\n",
        "print(f'Best cross-validated accuracy: {best_accuracy * 100:.2f}%')\n",
        "\n",
        "best_model = grid_search.best_estimator_\n",
        "y_pred = best_model.predict(X_test)\n",
        "test_accuracy = accuracy_score(y_test, y_pred)\n",
        "print(f'Test set accuracy with optimal C: {test_accuracy * 100:.2f}%')"
      ],
      "metadata": {
        "colab": {
          "base_uri": "https://localhost:8080/"
        },
        "id": "HN4wq8XDQn1_",
        "outputId": "b493f9e0-3308-4252-c8c5-886a83e8d3dc"
      },
      "execution_count": 30,
      "outputs": [
        {
          "output_type": "stream",
          "name": "stdout",
          "text": [
            "Optimal C value: 0.005994842503189409\n",
            "Best cross-validated accuracy: 100.00%\n",
            "Test set accuracy with optimal C: 100.00%\n"
          ]
        }
      ]
    },
    {
      "cell_type": "code",
      "source": [
        "#Question 25\n",
        "import numpy as np\n",
        "import pandas as pd\n",
        "from sklearn import datasets\n",
        "from sklearn.model_selection import train_test_split\n",
        "from sklearn.linear_model import LogisticRegression\n",
        "from sklearn.metrics import accuracy_score\n",
        "import joblib\n",
        "\n",
        "iris = datasets.load_iris()\n",
        "X = iris.data[iris.target != 2]\n",
        "y = iris.target[iris.target != 2]\n",
        "\n",
        "X_train, X_test, y_train, y_test = train_test_split(X, y, test_size=0.2, random_state=42)\n",
        "\n",
        "model = LogisticRegression(max_iter=200)\n",
        "model.fit(X_train, y_train)\n",
        "\n",
        "joblib_file = 'logistic_regression_model.joblib'\n",
        "joblib.dump(model, joblib_file)\n",
        "print(f'Model saved to {joblib_file}')\n",
        "\n",
        "loaded_model = joblib.load(joblib_file)\n",
        "print('Model loaded from file.')\n",
        "\n",
        "y_pred = loaded_model.predict(X_test)\n",
        "\n",
        "accuracy = accuracy_score(y_test, y_pred)\n",
        "print(f'Accuracy of the loaded model: {accuracy * 100:.2f}%')"
      ],
      "metadata": {
        "colab": {
          "base_uri": "https://localhost:8080/"
        },
        "id": "HM1UoKGHQooO",
        "outputId": "b2b42848-1d77-4ac5-e6e2-4db2a316f0ad"
      },
      "execution_count": 31,
      "outputs": [
        {
          "output_type": "stream",
          "name": "stdout",
          "text": [
            "Model saved to logistic_regression_model.joblib\n",
            "Model loaded from file.\n",
            "Accuracy of the loaded model: 100.00%\n"
          ]
        }
      ]
    }
  ]
}